{
 "cells": [
  {
   "cell_type": "markdown",
   "metadata": {},
   "source": [
    "# Application of Decision Tree on Iris Dataset"
   ]
  },
  {
   "cell_type": "code",
   "execution_count": 1,
   "metadata": {},
   "outputs": [],
   "source": [
    "# Load the Libraries\n",
    "from sklearn.datasets import load_iris\n",
    "from sklearn.tree import DecisionTreeClassifier\n",
    "from sklearn.metrics import accuracy_score, f1_score, classification_report\n",
    "from warnings import filterwarnings\n",
    "filterwarnings(action='ignore')"
   ]
  },
  {
   "cell_type": "code",
   "execution_count": 2,
   "metadata": {},
   "outputs": [
    {
     "data": {
      "text/plain": [
       "dict_keys(['data', 'target', 'target_names', 'DESCR', 'feature_names', 'filename'])"
      ]
     },
     "execution_count": 2,
     "metadata": {},
     "output_type": "execute_result"
    }
   ],
   "source": [
    "# Load the dataset\n",
    "iris= load_iris()\n",
    "iris.keys()"
   ]
  },
  {
   "cell_type": "code",
   "execution_count": 3,
   "metadata": {},
   "outputs": [
    {
     "data": {
      "text/plain": [
       "array([[5.1, 3.5, 1.4, 0.2],\n",
       "       [4.9, 3. , 1.4, 0.2],\n",
       "       [4.7, 3.2, 1.3, 0.2],\n",
       "       [4.6, 3.1, 1.5, 0.2],\n",
       "       [5. , 3.6, 1.4, 0.2]])"
      ]
     },
     "execution_count": 3,
     "metadata": {},
     "output_type": "execute_result"
    }
   ],
   "source": [
    "# Observations of first 5 samples' features\n",
    "iris.data[0:5]"
   ]
  },
  {
   "cell_type": "code",
   "execution_count": 4,
   "metadata": {},
   "outputs": [
    {
     "data": {
      "text/plain": [
       "array([0, 0, 0, 0, 0])"
      ]
     },
     "execution_count": 4,
     "metadata": {},
     "output_type": "execute_result"
    }
   ],
   "source": [
    "# Corresponding target variables of first 5 samples\n",
    "iris.target[0:5]"
   ]
  },
  {
   "cell_type": "code",
   "execution_count": 5,
   "metadata": {},
   "outputs": [
    {
     "name": "stdout",
     "output_type": "stream",
     "text": [
      ".. _iris_dataset:\n",
      "\n",
      "Iris plants dataset\n",
      "--------------------\n",
      "\n",
      "**Data Set Characteristics:**\n",
      "\n",
      "    :Number of Instances: 150 (50 in each of three classes)\n",
      "    :Number of Attributes: 4 numeric, predictive attributes and the class\n",
      "    :Attribute Information:\n",
      "        - sepal length in cm\n",
      "        - sepal width in cm\n",
      "        - petal length in cm\n",
      "        - petal width in cm\n",
      "        - class:\n",
      "                - Iris-Setosa\n",
      "                - Iris-Versicolour\n",
      "                - Iris-Virginica\n",
      "                \n",
      "    :Summary Statistics:\n",
      "\n",
      "    ============== ==== ==== ======= ===== ====================\n",
      "                    Min  Max   Mean    SD   Class Correlation\n",
      "    ============== ==== ==== ======= ===== ====================\n",
      "    sepal length:   4.3  7.9   5.84   0.83    0.7826\n",
      "    sepal width:    2.0  4.4   3.05   0.43   -0.4194\n",
      "    petal length:   1.0  6.9   3.76   1.76    0.9490  (high!)\n",
      "    petal width:    0.1  2.5   1.20   0.76    0.9565  (high!)\n",
      "    ============== ==== ==== ======= ===== ====================\n",
      "\n",
      "    :Missing Attribute Values: None\n",
      "    :Class Distribution: 33.3% for each of 3 classes.\n",
      "    :Creator: R.A. Fisher\n",
      "    :Donor: Michael Marshall (MARSHALL%PLU@io.arc.nasa.gov)\n",
      "    :Date: July, 1988\n",
      "\n",
      "The famous Iris database, first used by Sir R.A. Fisher. The dataset is taken\n",
      "from Fisher's paper. Note that it's the same as in R, but not as in the UCI\n",
      "Machine Learning Repository, which has two wrong data points.\n",
      "\n",
      "This is perhaps the best known database to be found in the\n",
      "pattern recognition literature.  Fisher's paper is a classic in the field and\n",
      "is referenced frequently to this day.  (See Duda & Hart, for example.)  The\n",
      "data set contains 3 classes of 50 instances each, where each class refers to a\n",
      "type of iris plant.  One class is linearly separable from the other 2; the\n",
      "latter are NOT linearly separable from each other.\n",
      "\n",
      ".. topic:: References\n",
      "\n",
      "   - Fisher, R.A. \"The use of multiple measurements in taxonomic problems\"\n",
      "     Annual Eugenics, 7, Part II, 179-188 (1936); also in \"Contributions to\n",
      "     Mathematical Statistics\" (John Wiley, NY, 1950).\n",
      "   - Duda, R.O., & Hart, P.E. (1973) Pattern Classification and Scene Analysis.\n",
      "     (Q327.D83) John Wiley & Sons.  ISBN 0-471-22361-1.  See page 218.\n",
      "   - Dasarathy, B.V. (1980) \"Nosing Around the Neighborhood: A New System\n",
      "     Structure and Classification Rule for Recognition in Partially Exposed\n",
      "     Environments\".  IEEE Transactions on Pattern Analysis and Machine\n",
      "     Intelligence, Vol. PAMI-2, No. 1, 67-71.\n",
      "   - Gates, G.W. (1972) \"The Reduced Nearest Neighbor Rule\".  IEEE Transactions\n",
      "     on Information Theory, May 1972, 431-433.\n",
      "   - See also: 1988 MLC Proceedings, 54-64.  Cheeseman et al\"s AUTOCLASS II\n",
      "     conceptual clustering system finds 3 classes in the data.\n",
      "   - Many, many more ...\n"
     ]
    }
   ],
   "source": [
    "# Description of Iris Dataset\n",
    "print(iris.DESCR)"
   ]
  },
  {
   "cell_type": "markdown",
   "metadata": {},
   "source": [
    "# Training and Visualization of Decision Tree"
   ]
  },
  {
   "cell_type": "markdown",
   "metadata": {},
   "source": [
    "We will convert the given numpy array data into pandas DataFrame for easy visualization of the given Iris Dataset."
   ]
  },
  {
   "cell_type": "code",
   "execution_count": 6,
   "metadata": {},
   "outputs": [],
   "source": [
    "import pandas as pd"
   ]
  },
  {
   "cell_type": "code",
   "execution_count": 7,
   "metadata": {},
   "outputs": [
    {
     "data": {
      "text/html": [
       "<div>\n",
       "<style scoped>\n",
       "    .dataframe tbody tr th:only-of-type {\n",
       "        vertical-align: middle;\n",
       "    }\n",
       "\n",
       "    .dataframe tbody tr th {\n",
       "        vertical-align: top;\n",
       "    }\n",
       "\n",
       "    .dataframe thead th {\n",
       "        text-align: right;\n",
       "    }\n",
       "</style>\n",
       "<table border=\"1\" class=\"dataframe\">\n",
       "  <thead>\n",
       "    <tr style=\"text-align: right;\">\n",
       "      <th></th>\n",
       "      <th>sepal length (cm)</th>\n",
       "      <th>sepal width (cm)</th>\n",
       "      <th>petal length (cm)</th>\n",
       "      <th>petal width (cm)</th>\n",
       "      <th>class</th>\n",
       "    </tr>\n",
       "  </thead>\n",
       "  <tbody>\n",
       "    <tr>\n",
       "      <th>0</th>\n",
       "      <td>5.1</td>\n",
       "      <td>3.5</td>\n",
       "      <td>1.4</td>\n",
       "      <td>0.2</td>\n",
       "      <td>0</td>\n",
       "    </tr>\n",
       "    <tr>\n",
       "      <th>1</th>\n",
       "      <td>4.9</td>\n",
       "      <td>3.0</td>\n",
       "      <td>1.4</td>\n",
       "      <td>0.2</td>\n",
       "      <td>0</td>\n",
       "    </tr>\n",
       "    <tr>\n",
       "      <th>2</th>\n",
       "      <td>4.7</td>\n",
       "      <td>3.2</td>\n",
       "      <td>1.3</td>\n",
       "      <td>0.2</td>\n",
       "      <td>0</td>\n",
       "    </tr>\n",
       "    <tr>\n",
       "      <th>3</th>\n",
       "      <td>4.6</td>\n",
       "      <td>3.1</td>\n",
       "      <td>1.5</td>\n",
       "      <td>0.2</td>\n",
       "      <td>0</td>\n",
       "    </tr>\n",
       "    <tr>\n",
       "      <th>4</th>\n",
       "      <td>5.0</td>\n",
       "      <td>3.6</td>\n",
       "      <td>1.4</td>\n",
       "      <td>0.2</td>\n",
       "      <td>0</td>\n",
       "    </tr>\n",
       "  </tbody>\n",
       "</table>\n",
       "</div>"
      ],
      "text/plain": [
       "   sepal length (cm)  sepal width (cm)  petal length (cm)  petal width (cm)  \\\n",
       "0                5.1               3.5                1.4               0.2   \n",
       "1                4.9               3.0                1.4               0.2   \n",
       "2                4.7               3.2                1.3               0.2   \n",
       "3                4.6               3.1                1.5               0.2   \n",
       "4                5.0               3.6                1.4               0.2   \n",
       "\n",
       "   class  \n",
       "0      0  \n",
       "1      0  \n",
       "2      0  \n",
       "3      0  \n",
       "4      0  "
      ]
     },
     "execution_count": 7,
     "metadata": {},
     "output_type": "execute_result"
    }
   ],
   "source": [
    "# Coversion of numpy array data into pandas DataFrame\n",
    "df_data= pd.DataFrame(data=iris.data, columns=iris.feature_names)\n",
    "df_target= pd.DataFrame(data= iris.target, columns=['class'])\n",
    "df= df_data.join(df_target)\n",
    "df.head()"
   ]
  },
  {
   "cell_type": "code",
   "execution_count": 8,
   "metadata": {},
   "outputs": [],
   "source": [
    "# Seperate the dependent variables(x) and independent variable(y)\n",
    "x= df.drop('class', axis=1)\n",
    "y= df['class']"
   ]
  },
  {
   "cell_type": "code",
   "execution_count": 9,
   "metadata": {},
   "outputs": [
    {
     "name": "stdout",
     "output_type": "stream",
     "text": [
      "Accuracy Score 1.0\n"
     ]
    }
   ],
   "source": [
    "# Train the Decision Tree and check its accuracy\n",
    "tree= DecisionTreeClassifier(random_state=42)\n",
    "tree.fit(x,y)\n",
    "ypred= tree.predict(x)\n",
    "print('Accuracy Score', accuracy_score(y, ypred))"
   ]
  },
  {
   "cell_type": "code",
   "execution_count": 10,
   "metadata": {},
   "outputs": [
    {
     "data": {
      "text/plain": [
       "0.94"
      ]
     },
     "execution_count": 10,
     "metadata": {},
     "output_type": "execute_result"
    }
   ],
   "source": [
    "# Cross-Validation Accuracy Score with 10 folds \n",
    "from sklearn.model_selection import cross_val_score\n",
    "ypred= cross_val_score(tree, x, y, cv=50, scoring='accuracy')\n",
    "ypred.mean()"
   ]
  },
  {
   "cell_type": "code",
   "execution_count": 11,
   "metadata": {},
   "outputs": [],
   "source": [
    "# Formation of trained Decision Tree into .dot format\n",
    "from sklearn.tree import export_graphviz\n",
    "export_graphviz(tree, \n",
    "                out_file=\"full_iris_tree.dot\",\n",
    "                feature_names=iris.feature_names,\n",
    "                class_names=iris.target_names,\n",
    "                rounded=True, filled=True)"
   ]
  },
  {
   "cell_type": "code",
   "execution_count": 12,
   "metadata": {},
   "outputs": [
    {
     "data": {
      "image/svg+xml": [
       "<?xml version=\"1.0\" encoding=\"UTF-8\" standalone=\"no\"?>\r\n",
       "<!DOCTYPE svg PUBLIC \"-//W3C//DTD SVG 1.1//EN\"\r\n",
       " \"http://www.w3.org/Graphics/SVG/1.1/DTD/svg11.dtd\">\r\n",
       "<!-- Generated by graphviz version 2.38.0 (20140413.2041)\r\n",
       " -->\r\n",
       "<!-- Title: Tree Pages: 1 -->\r\n",
       "<svg width=\"906pt\" height=\"671pt\"\r\n",
       " viewBox=\"0.00 0.00 906.00 671.00\" xmlns=\"http://www.w3.org/2000/svg\" xmlns:xlink=\"http://www.w3.org/1999/xlink\">\r\n",
       "<g id=\"graph0\" class=\"graph\" transform=\"scale(1 1) rotate(0) translate(4 667)\">\r\n",
       "<title>Tree</title>\r\n",
       "<polygon fill=\"white\" stroke=\"none\" points=\"-4,4 -4,-667 902,-667 902,4 -4,4\"/>\r\n",
       "<!-- 0 -->\r\n",
       "<g id=\"node1\" class=\"node\"><title>0</title>\r\n",
       "<path fill=\"#ffffff\" stroke=\"black\" d=\"M544.5,-663C544.5,-663 394.5,-663 394.5,-663 388.5,-663 382.5,-657 382.5,-651 382.5,-651 382.5,-592 382.5,-592 382.5,-586 388.5,-580 394.5,-580 394.5,-580 544.5,-580 544.5,-580 550.5,-580 556.5,-586 556.5,-592 556.5,-592 556.5,-651 556.5,-651 556.5,-657 550.5,-663 544.5,-663\"/>\r\n",
       "<text text-anchor=\"middle\" x=\"469.5\" y=\"-647.8\" font-family=\"Helvetica,sans-Serif\" font-size=\"14.00\">petal length (cm) &lt;= 2.45</text>\r\n",
       "<text text-anchor=\"middle\" x=\"469.5\" y=\"-632.8\" font-family=\"Helvetica,sans-Serif\" font-size=\"14.00\">gini = 0.667</text>\r\n",
       "<text text-anchor=\"middle\" x=\"469.5\" y=\"-617.8\" font-family=\"Helvetica,sans-Serif\" font-size=\"14.00\">samples = 150</text>\r\n",
       "<text text-anchor=\"middle\" x=\"469.5\" y=\"-602.8\" font-family=\"Helvetica,sans-Serif\" font-size=\"14.00\">value = [50, 50, 50]</text>\r\n",
       "<text text-anchor=\"middle\" x=\"469.5\" y=\"-587.8\" font-family=\"Helvetica,sans-Serif\" font-size=\"14.00\">class = setosa</text>\r\n",
       "</g>\r\n",
       "<!-- 1 -->\r\n",
       "<g id=\"node2\" class=\"node\"><title>1</title>\r\n",
       "<path fill=\"#e58139\" stroke=\"black\" d=\"M437,-536.5C437,-536.5 340,-536.5 340,-536.5 334,-536.5 328,-530.5 328,-524.5 328,-524.5 328,-480.5 328,-480.5 328,-474.5 334,-468.5 340,-468.5 340,-468.5 437,-468.5 437,-468.5 443,-468.5 449,-474.5 449,-480.5 449,-480.5 449,-524.5 449,-524.5 449,-530.5 443,-536.5 437,-536.5\"/>\r\n",
       "<text text-anchor=\"middle\" x=\"388.5\" y=\"-521.3\" font-family=\"Helvetica,sans-Serif\" font-size=\"14.00\">gini = 0.0</text>\r\n",
       "<text text-anchor=\"middle\" x=\"388.5\" y=\"-506.3\" font-family=\"Helvetica,sans-Serif\" font-size=\"14.00\">samples = 50</text>\r\n",
       "<text text-anchor=\"middle\" x=\"388.5\" y=\"-491.3\" font-family=\"Helvetica,sans-Serif\" font-size=\"14.00\">value = [50, 0, 0]</text>\r\n",
       "<text text-anchor=\"middle\" x=\"388.5\" y=\"-476.3\" font-family=\"Helvetica,sans-Serif\" font-size=\"14.00\">class = setosa</text>\r\n",
       "</g>\r\n",
       "<!-- 0&#45;&gt;1 -->\r\n",
       "<g id=\"edge1\" class=\"edge\"><title>0&#45;&gt;1</title>\r\n",
       "<path fill=\"none\" stroke=\"black\" d=\"M441.397,-579.907C433.605,-568.652 425.136,-556.418 417.304,-545.106\"/>\r\n",
       "<polygon fill=\"black\" stroke=\"black\" points=\"420.032,-542.897 411.462,-536.667 414.276,-546.881 420.032,-542.897\"/>\r\n",
       "<text text-anchor=\"middle\" x=\"406.99\" y=\"-557.564\" font-family=\"Helvetica,sans-Serif\" font-size=\"14.00\">True</text>\r\n",
       "</g>\r\n",
       "<!-- 2 -->\r\n",
       "<g id=\"node3\" class=\"node\"><title>2</title>\r\n",
       "<path fill=\"#ffffff\" stroke=\"black\" d=\"M623.5,-544C623.5,-544 479.5,-544 479.5,-544 473.5,-544 467.5,-538 467.5,-532 467.5,-532 467.5,-473 467.5,-473 467.5,-467 473.5,-461 479.5,-461 479.5,-461 623.5,-461 623.5,-461 629.5,-461 635.5,-467 635.5,-473 635.5,-473 635.5,-532 635.5,-532 635.5,-538 629.5,-544 623.5,-544\"/>\r\n",
       "<text text-anchor=\"middle\" x=\"551.5\" y=\"-528.8\" font-family=\"Helvetica,sans-Serif\" font-size=\"14.00\">petal width (cm) &lt;= 1.75</text>\r\n",
       "<text text-anchor=\"middle\" x=\"551.5\" y=\"-513.8\" font-family=\"Helvetica,sans-Serif\" font-size=\"14.00\">gini = 0.5</text>\r\n",
       "<text text-anchor=\"middle\" x=\"551.5\" y=\"-498.8\" font-family=\"Helvetica,sans-Serif\" font-size=\"14.00\">samples = 100</text>\r\n",
       "<text text-anchor=\"middle\" x=\"551.5\" y=\"-483.8\" font-family=\"Helvetica,sans-Serif\" font-size=\"14.00\">value = [0, 50, 50]</text>\r\n",
       "<text text-anchor=\"middle\" x=\"551.5\" y=\"-468.8\" font-family=\"Helvetica,sans-Serif\" font-size=\"14.00\">class = versicolor</text>\r\n",
       "</g>\r\n",
       "<!-- 0&#45;&gt;2 -->\r\n",
       "<g id=\"edge2\" class=\"edge\"><title>0&#45;&gt;2</title>\r\n",
       "<path fill=\"none\" stroke=\"black\" d=\"M497.949,-579.907C504.183,-571.014 510.844,-561.509 517.277,-552.331\"/>\r\n",
       "<polygon fill=\"black\" stroke=\"black\" points=\"520.228,-554.219 523.101,-544.021 514.495,-550.201 520.228,-554.219\"/>\r\n",
       "<text text-anchor=\"middle\" x=\"527.431\" y=\"-564.943\" font-family=\"Helvetica,sans-Serif\" font-size=\"14.00\">False</text>\r\n",
       "</g>\r\n",
       "<!-- 3 -->\r\n",
       "<g id=\"node4\" class=\"node\"><title>3</title>\r\n",
       "<path fill=\"#4de88e\" stroke=\"black\" d=\"M508.5,-425C508.5,-425 358.5,-425 358.5,-425 352.5,-425 346.5,-419 346.5,-413 346.5,-413 346.5,-354 346.5,-354 346.5,-348 352.5,-342 358.5,-342 358.5,-342 508.5,-342 508.5,-342 514.5,-342 520.5,-348 520.5,-354 520.5,-354 520.5,-413 520.5,-413 520.5,-419 514.5,-425 508.5,-425\"/>\r\n",
       "<text text-anchor=\"middle\" x=\"433.5\" y=\"-409.8\" font-family=\"Helvetica,sans-Serif\" font-size=\"14.00\">petal length (cm) &lt;= 4.95</text>\r\n",
       "<text text-anchor=\"middle\" x=\"433.5\" y=\"-394.8\" font-family=\"Helvetica,sans-Serif\" font-size=\"14.00\">gini = 0.168</text>\r\n",
       "<text text-anchor=\"middle\" x=\"433.5\" y=\"-379.8\" font-family=\"Helvetica,sans-Serif\" font-size=\"14.00\">samples = 54</text>\r\n",
       "<text text-anchor=\"middle\" x=\"433.5\" y=\"-364.8\" font-family=\"Helvetica,sans-Serif\" font-size=\"14.00\">value = [0, 49, 5]</text>\r\n",
       "<text text-anchor=\"middle\" x=\"433.5\" y=\"-349.8\" font-family=\"Helvetica,sans-Serif\" font-size=\"14.00\">class = versicolor</text>\r\n",
       "</g>\r\n",
       "<!-- 2&#45;&gt;3 -->\r\n",
       "<g id=\"edge3\" class=\"edge\"><title>2&#45;&gt;3</title>\r\n",
       "<path fill=\"none\" stroke=\"black\" d=\"M510.56,-460.907C501.225,-451.651 491.221,-441.732 481.617,-432.209\"/>\r\n",
       "<polygon fill=\"black\" stroke=\"black\" points=\"483.933,-429.576 474.367,-425.021 479.004,-434.547 483.933,-429.576\"/>\r\n",
       "</g>\r\n",
       "<!-- 12 -->\r\n",
       "<g id=\"node13\" class=\"node\"><title>12</title>\r\n",
       "<path fill=\"#843de6\" stroke=\"black\" d=\"M744.5,-425C744.5,-425 594.5,-425 594.5,-425 588.5,-425 582.5,-419 582.5,-413 582.5,-413 582.5,-354 582.5,-354 582.5,-348 588.5,-342 594.5,-342 594.5,-342 744.5,-342 744.5,-342 750.5,-342 756.5,-348 756.5,-354 756.5,-354 756.5,-413 756.5,-413 756.5,-419 750.5,-425 744.5,-425\"/>\r\n",
       "<text text-anchor=\"middle\" x=\"669.5\" y=\"-409.8\" font-family=\"Helvetica,sans-Serif\" font-size=\"14.00\">petal length (cm) &lt;= 4.85</text>\r\n",
       "<text text-anchor=\"middle\" x=\"669.5\" y=\"-394.8\" font-family=\"Helvetica,sans-Serif\" font-size=\"14.00\">gini = 0.043</text>\r\n",
       "<text text-anchor=\"middle\" x=\"669.5\" y=\"-379.8\" font-family=\"Helvetica,sans-Serif\" font-size=\"14.00\">samples = 46</text>\r\n",
       "<text text-anchor=\"middle\" x=\"669.5\" y=\"-364.8\" font-family=\"Helvetica,sans-Serif\" font-size=\"14.00\">value = [0, 1, 45]</text>\r\n",
       "<text text-anchor=\"middle\" x=\"669.5\" y=\"-349.8\" font-family=\"Helvetica,sans-Serif\" font-size=\"14.00\">class = virginica</text>\r\n",
       "</g>\r\n",
       "<!-- 2&#45;&gt;12 -->\r\n",
       "<g id=\"edge12\" class=\"edge\"><title>2&#45;&gt;12</title>\r\n",
       "<path fill=\"none\" stroke=\"black\" d=\"M592.44,-460.907C601.775,-451.651 611.779,-441.732 621.383,-432.209\"/>\r\n",
       "<polygon fill=\"black\" stroke=\"black\" points=\"623.996,-434.547 628.633,-425.021 619.067,-429.576 623.996,-434.547\"/>\r\n",
       "</g>\r\n",
       "<!-- 4 -->\r\n",
       "<g id=\"node5\" class=\"node\"><title>4</title>\r\n",
       "<path fill=\"#3de684\" stroke=\"black\" d=\"M275.5,-306C275.5,-306 131.5,-306 131.5,-306 125.5,-306 119.5,-300 119.5,-294 119.5,-294 119.5,-235 119.5,-235 119.5,-229 125.5,-223 131.5,-223 131.5,-223 275.5,-223 275.5,-223 281.5,-223 287.5,-229 287.5,-235 287.5,-235 287.5,-294 287.5,-294 287.5,-300 281.5,-306 275.5,-306\"/>\r\n",
       "<text text-anchor=\"middle\" x=\"203.5\" y=\"-290.8\" font-family=\"Helvetica,sans-Serif\" font-size=\"14.00\">petal width (cm) &lt;= 1.65</text>\r\n",
       "<text text-anchor=\"middle\" x=\"203.5\" y=\"-275.8\" font-family=\"Helvetica,sans-Serif\" font-size=\"14.00\">gini = 0.041</text>\r\n",
       "<text text-anchor=\"middle\" x=\"203.5\" y=\"-260.8\" font-family=\"Helvetica,sans-Serif\" font-size=\"14.00\">samples = 48</text>\r\n",
       "<text text-anchor=\"middle\" x=\"203.5\" y=\"-245.8\" font-family=\"Helvetica,sans-Serif\" font-size=\"14.00\">value = [0, 47, 1]</text>\r\n",
       "<text text-anchor=\"middle\" x=\"203.5\" y=\"-230.8\" font-family=\"Helvetica,sans-Serif\" font-size=\"14.00\">class = versicolor</text>\r\n",
       "</g>\r\n",
       "<!-- 3&#45;&gt;4 -->\r\n",
       "<g id=\"edge4\" class=\"edge\"><title>3&#45;&gt;4</title>\r\n",
       "<path fill=\"none\" stroke=\"black\" d=\"M353.703,-341.907C333.811,-331.789 312.364,-320.879 292.078,-310.559\"/>\r\n",
       "<polygon fill=\"black\" stroke=\"black\" points=\"293.656,-307.435 283.156,-306.021 290.482,-313.674 293.656,-307.435\"/>\r\n",
       "</g>\r\n",
       "<!-- 7 -->\r\n",
       "<g id=\"node8\" class=\"node\"><title>7</title>\r\n",
       "<path fill=\"#c09cf2\" stroke=\"black\" d=\"M505.5,-306C505.5,-306 361.5,-306 361.5,-306 355.5,-306 349.5,-300 349.5,-294 349.5,-294 349.5,-235 349.5,-235 349.5,-229 355.5,-223 361.5,-223 361.5,-223 505.5,-223 505.5,-223 511.5,-223 517.5,-229 517.5,-235 517.5,-235 517.5,-294 517.5,-294 517.5,-300 511.5,-306 505.5,-306\"/>\r\n",
       "<text text-anchor=\"middle\" x=\"433.5\" y=\"-290.8\" font-family=\"Helvetica,sans-Serif\" font-size=\"14.00\">petal width (cm) &lt;= 1.55</text>\r\n",
       "<text text-anchor=\"middle\" x=\"433.5\" y=\"-275.8\" font-family=\"Helvetica,sans-Serif\" font-size=\"14.00\">gini = 0.444</text>\r\n",
       "<text text-anchor=\"middle\" x=\"433.5\" y=\"-260.8\" font-family=\"Helvetica,sans-Serif\" font-size=\"14.00\">samples = 6</text>\r\n",
       "<text text-anchor=\"middle\" x=\"433.5\" y=\"-245.8\" font-family=\"Helvetica,sans-Serif\" font-size=\"14.00\">value = [0, 2, 4]</text>\r\n",
       "<text text-anchor=\"middle\" x=\"433.5\" y=\"-230.8\" font-family=\"Helvetica,sans-Serif\" font-size=\"14.00\">class = virginica</text>\r\n",
       "</g>\r\n",
       "<!-- 3&#45;&gt;7 -->\r\n",
       "<g id=\"edge7\" class=\"edge\"><title>3&#45;&gt;7</title>\r\n",
       "<path fill=\"none\" stroke=\"black\" d=\"M433.5,-341.907C433.5,-333.649 433.5,-324.864 433.5,-316.302\"/>\r\n",
       "<polygon fill=\"black\" stroke=\"black\" points=\"437,-316.021 433.5,-306.021 430,-316.021 437,-316.021\"/>\r\n",
       "</g>\r\n",
       "<!-- 5 -->\r\n",
       "<g id=\"node6\" class=\"node\"><title>5</title>\r\n",
       "<path fill=\"#39e581\" stroke=\"black\" d=\"M115,-179.5C115,-179.5 12,-179.5 12,-179.5 6,-179.5 -7.10543e-015,-173.5 -7.10543e-015,-167.5 -7.10543e-015,-167.5 -7.10543e-015,-123.5 -7.10543e-015,-123.5 -7.10543e-015,-117.5 6,-111.5 12,-111.5 12,-111.5 115,-111.5 115,-111.5 121,-111.5 127,-117.5 127,-123.5 127,-123.5 127,-167.5 127,-167.5 127,-173.5 121,-179.5 115,-179.5\"/>\r\n",
       "<text text-anchor=\"middle\" x=\"63.5\" y=\"-164.3\" font-family=\"Helvetica,sans-Serif\" font-size=\"14.00\">gini = 0.0</text>\r\n",
       "<text text-anchor=\"middle\" x=\"63.5\" y=\"-149.3\" font-family=\"Helvetica,sans-Serif\" font-size=\"14.00\">samples = 47</text>\r\n",
       "<text text-anchor=\"middle\" x=\"63.5\" y=\"-134.3\" font-family=\"Helvetica,sans-Serif\" font-size=\"14.00\">value = [0, 47, 0]</text>\r\n",
       "<text text-anchor=\"middle\" x=\"63.5\" y=\"-119.3\" font-family=\"Helvetica,sans-Serif\" font-size=\"14.00\">class = versicolor</text>\r\n",
       "</g>\r\n",
       "<!-- 4&#45;&gt;5 -->\r\n",
       "<g id=\"edge5\" class=\"edge\"><title>4&#45;&gt;5</title>\r\n",
       "<path fill=\"none\" stroke=\"black\" d=\"M154.928,-222.907C140.668,-210.99 125.095,-197.976 110.908,-186.12\"/>\r\n",
       "<polygon fill=\"black\" stroke=\"black\" points=\"113.105,-183.394 103.187,-179.667 108.616,-188.765 113.105,-183.394\"/>\r\n",
       "</g>\r\n",
       "<!-- 6 -->\r\n",
       "<g id=\"node7\" class=\"node\"><title>6</title>\r\n",
       "<path fill=\"#8139e5\" stroke=\"black\" d=\"M249.5,-179.5C249.5,-179.5 157.5,-179.5 157.5,-179.5 151.5,-179.5 145.5,-173.5 145.5,-167.5 145.5,-167.5 145.5,-123.5 145.5,-123.5 145.5,-117.5 151.5,-111.5 157.5,-111.5 157.5,-111.5 249.5,-111.5 249.5,-111.5 255.5,-111.5 261.5,-117.5 261.5,-123.5 261.5,-123.5 261.5,-167.5 261.5,-167.5 261.5,-173.5 255.5,-179.5 249.5,-179.5\"/>\r\n",
       "<text text-anchor=\"middle\" x=\"203.5\" y=\"-164.3\" font-family=\"Helvetica,sans-Serif\" font-size=\"14.00\">gini = 0.0</text>\r\n",
       "<text text-anchor=\"middle\" x=\"203.5\" y=\"-149.3\" font-family=\"Helvetica,sans-Serif\" font-size=\"14.00\">samples = 1</text>\r\n",
       "<text text-anchor=\"middle\" x=\"203.5\" y=\"-134.3\" font-family=\"Helvetica,sans-Serif\" font-size=\"14.00\">value = [0, 0, 1]</text>\r\n",
       "<text text-anchor=\"middle\" x=\"203.5\" y=\"-119.3\" font-family=\"Helvetica,sans-Serif\" font-size=\"14.00\">class = virginica</text>\r\n",
       "</g>\r\n",
       "<!-- 4&#45;&gt;6 -->\r\n",
       "<g id=\"edge6\" class=\"edge\"><title>4&#45;&gt;6</title>\r\n",
       "<path fill=\"none\" stroke=\"black\" d=\"M203.5,-222.907C203.5,-212.204 203.5,-200.615 203.5,-189.776\"/>\r\n",
       "<polygon fill=\"black\" stroke=\"black\" points=\"207,-189.667 203.5,-179.667 200,-189.667 207,-189.667\"/>\r\n",
       "</g>\r\n",
       "<!-- 8 -->\r\n",
       "<g id=\"node9\" class=\"node\"><title>8</title>\r\n",
       "<path fill=\"#8139e5\" stroke=\"black\" d=\"M383.5,-179.5C383.5,-179.5 291.5,-179.5 291.5,-179.5 285.5,-179.5 279.5,-173.5 279.5,-167.5 279.5,-167.5 279.5,-123.5 279.5,-123.5 279.5,-117.5 285.5,-111.5 291.5,-111.5 291.5,-111.5 383.5,-111.5 383.5,-111.5 389.5,-111.5 395.5,-117.5 395.5,-123.5 395.5,-123.5 395.5,-167.5 395.5,-167.5 395.5,-173.5 389.5,-179.5 383.5,-179.5\"/>\r\n",
       "<text text-anchor=\"middle\" x=\"337.5\" y=\"-164.3\" font-family=\"Helvetica,sans-Serif\" font-size=\"14.00\">gini = 0.0</text>\r\n",
       "<text text-anchor=\"middle\" x=\"337.5\" y=\"-149.3\" font-family=\"Helvetica,sans-Serif\" font-size=\"14.00\">samples = 3</text>\r\n",
       "<text text-anchor=\"middle\" x=\"337.5\" y=\"-134.3\" font-family=\"Helvetica,sans-Serif\" font-size=\"14.00\">value = [0, 0, 3]</text>\r\n",
       "<text text-anchor=\"middle\" x=\"337.5\" y=\"-119.3\" font-family=\"Helvetica,sans-Serif\" font-size=\"14.00\">class = virginica</text>\r\n",
       "</g>\r\n",
       "<!-- 7&#45;&gt;8 -->\r\n",
       "<g id=\"edge8\" class=\"edge\"><title>7&#45;&gt;8</title>\r\n",
       "<path fill=\"none\" stroke=\"black\" d=\"M400.193,-222.907C390.777,-211.432 380.526,-198.938 371.093,-187.442\"/>\r\n",
       "<polygon fill=\"black\" stroke=\"black\" points=\"373.763,-185.178 364.714,-179.667 368.351,-189.618 373.763,-185.178\"/>\r\n",
       "</g>\r\n",
       "<!-- 9 -->\r\n",
       "<g id=\"node10\" class=\"node\"><title>9</title>\r\n",
       "<path fill=\"#9cf2c0\" stroke=\"black\" d=\"M575.5,-187C575.5,-187 425.5,-187 425.5,-187 419.5,-187 413.5,-181 413.5,-175 413.5,-175 413.5,-116 413.5,-116 413.5,-110 419.5,-104 425.5,-104 425.5,-104 575.5,-104 575.5,-104 581.5,-104 587.5,-110 587.5,-116 587.5,-116 587.5,-175 587.5,-175 587.5,-181 581.5,-187 575.5,-187\"/>\r\n",
       "<text text-anchor=\"middle\" x=\"500.5\" y=\"-171.8\" font-family=\"Helvetica,sans-Serif\" font-size=\"14.00\">petal length (cm) &lt;= 5.45</text>\r\n",
       "<text text-anchor=\"middle\" x=\"500.5\" y=\"-156.8\" font-family=\"Helvetica,sans-Serif\" font-size=\"14.00\">gini = 0.444</text>\r\n",
       "<text text-anchor=\"middle\" x=\"500.5\" y=\"-141.8\" font-family=\"Helvetica,sans-Serif\" font-size=\"14.00\">samples = 3</text>\r\n",
       "<text text-anchor=\"middle\" x=\"500.5\" y=\"-126.8\" font-family=\"Helvetica,sans-Serif\" font-size=\"14.00\">value = [0, 2, 1]</text>\r\n",
       "<text text-anchor=\"middle\" x=\"500.5\" y=\"-111.8\" font-family=\"Helvetica,sans-Serif\" font-size=\"14.00\">class = versicolor</text>\r\n",
       "</g>\r\n",
       "<!-- 7&#45;&gt;9 -->\r\n",
       "<g id=\"edge9\" class=\"edge\"><title>7&#45;&gt;9</title>\r\n",
       "<path fill=\"none\" stroke=\"black\" d=\"M456.745,-222.907C461.734,-214.195 467.059,-204.897 472.215,-195.893\"/>\r\n",
       "<polygon fill=\"black\" stroke=\"black\" points=\"475.364,-197.438 477.296,-187.021 469.289,-193.959 475.364,-197.438\"/>\r\n",
       "</g>\r\n",
       "<!-- 10 -->\r\n",
       "<g id=\"node11\" class=\"node\"><title>10</title>\r\n",
       "<path fill=\"#39e581\" stroke=\"black\" d=\"M482,-68C482,-68 379,-68 379,-68 373,-68 367,-62 367,-56 367,-56 367,-12 367,-12 367,-6 373,-0 379,-0 379,-0 482,-0 482,-0 488,-0 494,-6 494,-12 494,-12 494,-56 494,-56 494,-62 488,-68 482,-68\"/>\r\n",
       "<text text-anchor=\"middle\" x=\"430.5\" y=\"-52.8\" font-family=\"Helvetica,sans-Serif\" font-size=\"14.00\">gini = 0.0</text>\r\n",
       "<text text-anchor=\"middle\" x=\"430.5\" y=\"-37.8\" font-family=\"Helvetica,sans-Serif\" font-size=\"14.00\">samples = 2</text>\r\n",
       "<text text-anchor=\"middle\" x=\"430.5\" y=\"-22.8\" font-family=\"Helvetica,sans-Serif\" font-size=\"14.00\">value = [0, 2, 0]</text>\r\n",
       "<text text-anchor=\"middle\" x=\"430.5\" y=\"-7.8\" font-family=\"Helvetica,sans-Serif\" font-size=\"14.00\">class = versicolor</text>\r\n",
       "</g>\r\n",
       "<!-- 9&#45;&gt;10 -->\r\n",
       "<g id=\"edge10\" class=\"edge\"><title>9&#45;&gt;10</title>\r\n",
       "<path fill=\"none\" stroke=\"black\" d=\"M474.435,-103.726C468.837,-94.9703 462.913,-85.7032 457.289,-76.9051\"/>\r\n",
       "<polygon fill=\"black\" stroke=\"black\" points=\"460.123,-74.8399 451.787,-68.2996 454.225,-78.6103 460.123,-74.8399\"/>\r\n",
       "</g>\r\n",
       "<!-- 11 -->\r\n",
       "<g id=\"node12\" class=\"node\"><title>11</title>\r\n",
       "<path fill=\"#8139e5\" stroke=\"black\" d=\"M616.5,-68C616.5,-68 524.5,-68 524.5,-68 518.5,-68 512.5,-62 512.5,-56 512.5,-56 512.5,-12 512.5,-12 512.5,-6 518.5,-0 524.5,-0 524.5,-0 616.5,-0 616.5,-0 622.5,-0 628.5,-6 628.5,-12 628.5,-12 628.5,-56 628.5,-56 628.5,-62 622.5,-68 616.5,-68\"/>\r\n",
       "<text text-anchor=\"middle\" x=\"570.5\" y=\"-52.8\" font-family=\"Helvetica,sans-Serif\" font-size=\"14.00\">gini = 0.0</text>\r\n",
       "<text text-anchor=\"middle\" x=\"570.5\" y=\"-37.8\" font-family=\"Helvetica,sans-Serif\" font-size=\"14.00\">samples = 1</text>\r\n",
       "<text text-anchor=\"middle\" x=\"570.5\" y=\"-22.8\" font-family=\"Helvetica,sans-Serif\" font-size=\"14.00\">value = [0, 0, 1]</text>\r\n",
       "<text text-anchor=\"middle\" x=\"570.5\" y=\"-7.8\" font-family=\"Helvetica,sans-Serif\" font-size=\"14.00\">class = virginica</text>\r\n",
       "</g>\r\n",
       "<!-- 9&#45;&gt;11 -->\r\n",
       "<g id=\"edge11\" class=\"edge\"><title>9&#45;&gt;11</title>\r\n",
       "<path fill=\"none\" stroke=\"black\" d=\"M526.565,-103.726C532.163,-94.9703 538.087,-85.7032 543.711,-76.9051\"/>\r\n",
       "<polygon fill=\"black\" stroke=\"black\" points=\"546.775,-78.6103 549.213,-68.2996 540.877,-74.8399 546.775,-78.6103\"/>\r\n",
       "</g>\r\n",
       "<!-- 13 -->\r\n",
       "<g id=\"node14\" class=\"node\"><title>13</title>\r\n",
       "<path fill=\"#c09cf2\" stroke=\"black\" d=\"M746.5,-306C746.5,-306 592.5,-306 592.5,-306 586.5,-306 580.5,-300 580.5,-294 580.5,-294 580.5,-235 580.5,-235 580.5,-229 586.5,-223 592.5,-223 592.5,-223 746.5,-223 746.5,-223 752.5,-223 758.5,-229 758.5,-235 758.5,-235 758.5,-294 758.5,-294 758.5,-300 752.5,-306 746.5,-306\"/>\r\n",
       "<text text-anchor=\"middle\" x=\"669.5\" y=\"-290.8\" font-family=\"Helvetica,sans-Serif\" font-size=\"14.00\">sepal length (cm) &lt;= 5.95</text>\r\n",
       "<text text-anchor=\"middle\" x=\"669.5\" y=\"-275.8\" font-family=\"Helvetica,sans-Serif\" font-size=\"14.00\">gini = 0.444</text>\r\n",
       "<text text-anchor=\"middle\" x=\"669.5\" y=\"-260.8\" font-family=\"Helvetica,sans-Serif\" font-size=\"14.00\">samples = 3</text>\r\n",
       "<text text-anchor=\"middle\" x=\"669.5\" y=\"-245.8\" font-family=\"Helvetica,sans-Serif\" font-size=\"14.00\">value = [0, 1, 2]</text>\r\n",
       "<text text-anchor=\"middle\" x=\"669.5\" y=\"-230.8\" font-family=\"Helvetica,sans-Serif\" font-size=\"14.00\">class = virginica</text>\r\n",
       "</g>\r\n",
       "<!-- 12&#45;&gt;13 -->\r\n",
       "<g id=\"edge13\" class=\"edge\"><title>12&#45;&gt;13</title>\r\n",
       "<path fill=\"none\" stroke=\"black\" d=\"M669.5,-341.907C669.5,-333.649 669.5,-324.864 669.5,-316.302\"/>\r\n",
       "<polygon fill=\"black\" stroke=\"black\" points=\"673,-316.021 669.5,-306.021 666,-316.021 673,-316.021\"/>\r\n",
       "</g>\r\n",
       "<!-- 16 -->\r\n",
       "<g id=\"node17\" class=\"node\"><title>16</title>\r\n",
       "<path fill=\"#8139e5\" stroke=\"black\" d=\"M886,-298.5C886,-298.5 789,-298.5 789,-298.5 783,-298.5 777,-292.5 777,-286.5 777,-286.5 777,-242.5 777,-242.5 777,-236.5 783,-230.5 789,-230.5 789,-230.5 886,-230.5 886,-230.5 892,-230.5 898,-236.5 898,-242.5 898,-242.5 898,-286.5 898,-286.5 898,-292.5 892,-298.5 886,-298.5\"/>\r\n",
       "<text text-anchor=\"middle\" x=\"837.5\" y=\"-283.3\" font-family=\"Helvetica,sans-Serif\" font-size=\"14.00\">gini = 0.0</text>\r\n",
       "<text text-anchor=\"middle\" x=\"837.5\" y=\"-268.3\" font-family=\"Helvetica,sans-Serif\" font-size=\"14.00\">samples = 43</text>\r\n",
       "<text text-anchor=\"middle\" x=\"837.5\" y=\"-253.3\" font-family=\"Helvetica,sans-Serif\" font-size=\"14.00\">value = [0, 0, 43]</text>\r\n",
       "<text text-anchor=\"middle\" x=\"837.5\" y=\"-238.3\" font-family=\"Helvetica,sans-Serif\" font-size=\"14.00\">class = virginica</text>\r\n",
       "</g>\r\n",
       "<!-- 12&#45;&gt;16 -->\r\n",
       "<g id=\"edge16\" class=\"edge\"><title>12&#45;&gt;16</title>\r\n",
       "<path fill=\"none\" stroke=\"black\" d=\"M727.787,-341.907C745.216,-329.769 764.279,-316.493 781.554,-304.462\"/>\r\n",
       "<polygon fill=\"black\" stroke=\"black\" points=\"783.67,-307.254 789.876,-298.667 779.669,-301.51 783.67,-307.254\"/>\r\n",
       "</g>\r\n",
       "<!-- 14 -->\r\n",
       "<g id=\"node15\" class=\"node\"><title>14</title>\r\n",
       "<path fill=\"#39e581\" stroke=\"black\" d=\"M721,-179.5C721,-179.5 618,-179.5 618,-179.5 612,-179.5 606,-173.5 606,-167.5 606,-167.5 606,-123.5 606,-123.5 606,-117.5 612,-111.5 618,-111.5 618,-111.5 721,-111.5 721,-111.5 727,-111.5 733,-117.5 733,-123.5 733,-123.5 733,-167.5 733,-167.5 733,-173.5 727,-179.5 721,-179.5\"/>\r\n",
       "<text text-anchor=\"middle\" x=\"669.5\" y=\"-164.3\" font-family=\"Helvetica,sans-Serif\" font-size=\"14.00\">gini = 0.0</text>\r\n",
       "<text text-anchor=\"middle\" x=\"669.5\" y=\"-149.3\" font-family=\"Helvetica,sans-Serif\" font-size=\"14.00\">samples = 1</text>\r\n",
       "<text text-anchor=\"middle\" x=\"669.5\" y=\"-134.3\" font-family=\"Helvetica,sans-Serif\" font-size=\"14.00\">value = [0, 1, 0]</text>\r\n",
       "<text text-anchor=\"middle\" x=\"669.5\" y=\"-119.3\" font-family=\"Helvetica,sans-Serif\" font-size=\"14.00\">class = versicolor</text>\r\n",
       "</g>\r\n",
       "<!-- 13&#45;&gt;14 -->\r\n",
       "<g id=\"edge14\" class=\"edge\"><title>13&#45;&gt;14</title>\r\n",
       "<path fill=\"none\" stroke=\"black\" d=\"M669.5,-222.907C669.5,-212.204 669.5,-200.615 669.5,-189.776\"/>\r\n",
       "<polygon fill=\"black\" stroke=\"black\" points=\"673,-189.667 669.5,-179.667 666,-189.667 673,-189.667\"/>\r\n",
       "</g>\r\n",
       "<!-- 15 -->\r\n",
       "<g id=\"node16\" class=\"node\"><title>15</title>\r\n",
       "<path fill=\"#8139e5\" stroke=\"black\" d=\"M855.5,-179.5C855.5,-179.5 763.5,-179.5 763.5,-179.5 757.5,-179.5 751.5,-173.5 751.5,-167.5 751.5,-167.5 751.5,-123.5 751.5,-123.5 751.5,-117.5 757.5,-111.5 763.5,-111.5 763.5,-111.5 855.5,-111.5 855.5,-111.5 861.5,-111.5 867.5,-117.5 867.5,-123.5 867.5,-123.5 867.5,-167.5 867.5,-167.5 867.5,-173.5 861.5,-179.5 855.5,-179.5\"/>\r\n",
       "<text text-anchor=\"middle\" x=\"809.5\" y=\"-164.3\" font-family=\"Helvetica,sans-Serif\" font-size=\"14.00\">gini = 0.0</text>\r\n",
       "<text text-anchor=\"middle\" x=\"809.5\" y=\"-149.3\" font-family=\"Helvetica,sans-Serif\" font-size=\"14.00\">samples = 2</text>\r\n",
       "<text text-anchor=\"middle\" x=\"809.5\" y=\"-134.3\" font-family=\"Helvetica,sans-Serif\" font-size=\"14.00\">value = [0, 0, 2]</text>\r\n",
       "<text text-anchor=\"middle\" x=\"809.5\" y=\"-119.3\" font-family=\"Helvetica,sans-Serif\" font-size=\"14.00\">class = virginica</text>\r\n",
       "</g>\r\n",
       "<!-- 13&#45;&gt;15 -->\r\n",
       "<g id=\"edge15\" class=\"edge\"><title>13&#45;&gt;15</title>\r\n",
       "<path fill=\"none\" stroke=\"black\" d=\"M718.072,-222.907C732.332,-210.99 747.905,-197.976 762.092,-186.12\"/>\r\n",
       "<polygon fill=\"black\" stroke=\"black\" points=\"764.384,-188.765 769.813,-179.667 759.895,-183.394 764.384,-188.765\"/>\r\n",
       "</g>\r\n",
       "</g>\r\n",
       "</svg>\r\n"
      ],
      "text/plain": [
       "<graphviz.files.Source at 0x158b3d8c4c8>"
      ]
     },
     "execution_count": 12,
     "metadata": {},
     "output_type": "execute_result"
    }
   ],
   "source": [
    "# Visualization of trained Decision Tree\n",
    "import graphviz\n",
    "with open(\"full_iris_tree.dot\") as f:\n",
    "    dot_graph = f.read()\n",
    "graphviz.Source(dot_graph)"
   ]
  },
  {
   "cell_type": "markdown",
   "metadata": {},
   "source": [
    "# Regularized Hyperparameters"
   ]
  },
  {
   "cell_type": "markdown",
   "metadata": {},
   "source": [
    "For regularization of hyperparameters, we will use GridSearchCV."
   ]
  },
  {
   "cell_type": "code",
   "execution_count": 13,
   "metadata": {},
   "outputs": [
    {
     "data": {
      "text/plain": [
       "GridSearchCV(cv=50, error_score=nan,\n",
       "             estimator=DecisionTreeClassifier(ccp_alpha=0.0, class_weight=None,\n",
       "                                              criterion='gini', max_depth=None,\n",
       "                                              max_features=None,\n",
       "                                              max_leaf_nodes=None,\n",
       "                                              min_impurity_decrease=0.0,\n",
       "                                              min_impurity_split=None,\n",
       "                                              min_samples_leaf=1,\n",
       "                                              min_samples_split=2,\n",
       "                                              min_weight_fraction_leaf=0.0,\n",
       "                                              presort='deprecated',\n",
       "                                              random_state=42,\n",
       "                                              splitter='best'),\n",
       "             iid='deprecated', n_jobs=None,\n",
       "             param_grid=[{'criterion': ['gini', 'entropy'],\n",
       "                          'max_depth': [2, 3, 4, 5, 6],\n",
       "                          'max_features': [2, 3, 4],\n",
       "                          'splitter': ['best', 'random']}],\n",
       "             pre_dispatch='2*n_jobs', refit=True, return_train_score=True,\n",
       "             scoring='accuracy', verbose=0)"
      ]
     },
     "execution_count": 13,
     "metadata": {},
     "output_type": "execute_result"
    }
   ],
   "source": [
    "from sklearn.model_selection import GridSearchCV\n",
    "param_grid = [{'criterion': ['gini', 'entropy'], 'splitter': ['best','random'], \n",
    "               'max_depth': [2,3,4,5,6], 'max_features': [2,3,4]}]\n",
    "grid_search= GridSearchCV(tree, param_grid, cv=50, scoring='accuracy', return_train_score=True)\n",
    "grid_search.fit(x, y)"
   ]
  },
  {
   "cell_type": "code",
   "execution_count": 14,
   "metadata": {},
   "outputs": [
    {
     "data": {
      "text/plain": [
       "{'criterion': 'gini', 'max_depth': 3, 'max_features': 3, 'splitter': 'best'}"
      ]
     },
     "execution_count": 14,
     "metadata": {},
     "output_type": "execute_result"
    }
   ],
   "source": [
    "# Best Hyperparameters\n",
    "grid_search.best_params_            "
   ]
  },
  {
   "cell_type": "code",
   "execution_count": 15,
   "metadata": {},
   "outputs": [
    {
     "data": {
      "text/plain": [
       "0.9666666666666666"
      ]
     },
     "execution_count": 15,
     "metadata": {},
     "output_type": "execute_result"
    }
   ],
   "source": [
    "# Best Accuracy Score\n",
    "grid_search.best_score_"
   ]
  },
  {
   "cell_type": "code",
   "execution_count": 16,
   "metadata": {},
   "outputs": [
    {
     "data": {
      "text/plain": [
       "DecisionTreeClassifier(ccp_alpha=0.0, class_weight=None, criterion='gini',\n",
       "                       max_depth=3, max_features=3, max_leaf_nodes=None,\n",
       "                       min_impurity_decrease=0.0, min_impurity_split=None,\n",
       "                       min_samples_leaf=1, min_samples_split=2,\n",
       "                       min_weight_fraction_leaf=0.0, presort='deprecated',\n",
       "                       random_state=42, splitter='best')"
      ]
     },
     "execution_count": 16,
     "metadata": {},
     "output_type": "execute_result"
    }
   ],
   "source": [
    "# Best Estimator\n",
    "best_tree= grid_search.best_estimator_\n",
    "best_tree"
   ]
  },
  {
   "cell_type": "code",
   "execution_count": 17,
   "metadata": {},
   "outputs": [
    {
     "name": "stdout",
     "output_type": "stream",
     "text": [
      "Accuracy Score 0.9733333333333334\n"
     ]
    }
   ],
   "source": [
    "# Applying the best estimator on the Iris Dataset\n",
    "best_tree.fit(x,y)\n",
    "best_tree_ypred= best_tree.predict(x)\n",
    "print('Accuracy Score', accuracy_score(y, best_tree_ypred))"
   ]
  },
  {
   "cell_type": "code",
   "execution_count": 18,
   "metadata": {},
   "outputs": [
    {
     "data": {
      "text/plain": [
       "0.9666666666666666"
      ]
     },
     "execution_count": 18,
     "metadata": {},
     "output_type": "execute_result"
    }
   ],
   "source": [
    "# Cross-Validation Accuracy Score with 10 folds after regularization of hyperparameters\n",
    "from sklearn.model_selection import cross_val_score\n",
    "ypred= cross_val_score(best_tree, x, y, cv=50, scoring='accuracy')\n",
    "ypred.mean()"
   ]
  },
  {
   "cell_type": "code",
   "execution_count": 19,
   "metadata": {},
   "outputs": [],
   "source": [
    "# Formation of trained Decision Tree into .dot format\n",
    "from sklearn.tree import export_graphviz\n",
    "export_graphviz(best_tree, \n",
    "                out_file=\"best_iris_tree.dot\",\n",
    "                feature_names=iris.feature_names,\n",
    "                class_names=iris.target_names,\n",
    "                rounded=True, filled=True)"
   ]
  },
  {
   "cell_type": "code",
   "execution_count": 20,
   "metadata": {},
   "outputs": [
    {
     "data": {
      "image/svg+xml": [
       "<?xml version=\"1.0\" encoding=\"UTF-8\" standalone=\"no\"?>\r\n",
       "<!DOCTYPE svg PUBLIC \"-//W3C//DTD SVG 1.1//EN\"\r\n",
       " \"http://www.w3.org/Graphics/SVG/1.1/DTD/svg11.dtd\">\r\n",
       "<!-- Generated by graphviz version 2.38.0 (20140413.2041)\r\n",
       " -->\r\n",
       "<!-- Title: Tree Pages: 1 -->\r\n",
       "<svg width=\"573pt\" height=\"433pt\"\r\n",
       " viewBox=\"0.00 0.00 573.00 433.00\" xmlns=\"http://www.w3.org/2000/svg\" xmlns:xlink=\"http://www.w3.org/1999/xlink\">\r\n",
       "<g id=\"graph0\" class=\"graph\" transform=\"scale(1 1) rotate(0) translate(4 429)\">\r\n",
       "<title>Tree</title>\r\n",
       "<polygon fill=\"white\" stroke=\"none\" points=\"-4,4 -4,-429 569,-429 569,4 -4,4\"/>\r\n",
       "<!-- 0 -->\r\n",
       "<g id=\"node1\" class=\"node\"><title>0</title>\r\n",
       "<path fill=\"#ffffff\" stroke=\"black\" d=\"M278.5,-425C278.5,-425 128.5,-425 128.5,-425 122.5,-425 116.5,-419 116.5,-413 116.5,-413 116.5,-354 116.5,-354 116.5,-348 122.5,-342 128.5,-342 128.5,-342 278.5,-342 278.5,-342 284.5,-342 290.5,-348 290.5,-354 290.5,-354 290.5,-413 290.5,-413 290.5,-419 284.5,-425 278.5,-425\"/>\r\n",
       "<text text-anchor=\"middle\" x=\"203.5\" y=\"-409.8\" font-family=\"Helvetica,sans-Serif\" font-size=\"14.00\">petal length (cm) &lt;= 2.45</text>\r\n",
       "<text text-anchor=\"middle\" x=\"203.5\" y=\"-394.8\" font-family=\"Helvetica,sans-Serif\" font-size=\"14.00\">gini = 0.667</text>\r\n",
       "<text text-anchor=\"middle\" x=\"203.5\" y=\"-379.8\" font-family=\"Helvetica,sans-Serif\" font-size=\"14.00\">samples = 150</text>\r\n",
       "<text text-anchor=\"middle\" x=\"203.5\" y=\"-364.8\" font-family=\"Helvetica,sans-Serif\" font-size=\"14.00\">value = [50, 50, 50]</text>\r\n",
       "<text text-anchor=\"middle\" x=\"203.5\" y=\"-349.8\" font-family=\"Helvetica,sans-Serif\" font-size=\"14.00\">class = setosa</text>\r\n",
       "</g>\r\n",
       "<!-- 1 -->\r\n",
       "<g id=\"node2\" class=\"node\"><title>1</title>\r\n",
       "<path fill=\"#e58139\" stroke=\"black\" d=\"M171,-298.5C171,-298.5 74,-298.5 74,-298.5 68,-298.5 62,-292.5 62,-286.5 62,-286.5 62,-242.5 62,-242.5 62,-236.5 68,-230.5 74,-230.5 74,-230.5 171,-230.5 171,-230.5 177,-230.5 183,-236.5 183,-242.5 183,-242.5 183,-286.5 183,-286.5 183,-292.5 177,-298.5 171,-298.5\"/>\r\n",
       "<text text-anchor=\"middle\" x=\"122.5\" y=\"-283.3\" font-family=\"Helvetica,sans-Serif\" font-size=\"14.00\">gini = 0.0</text>\r\n",
       "<text text-anchor=\"middle\" x=\"122.5\" y=\"-268.3\" font-family=\"Helvetica,sans-Serif\" font-size=\"14.00\">samples = 50</text>\r\n",
       "<text text-anchor=\"middle\" x=\"122.5\" y=\"-253.3\" font-family=\"Helvetica,sans-Serif\" font-size=\"14.00\">value = [50, 0, 0]</text>\r\n",
       "<text text-anchor=\"middle\" x=\"122.5\" y=\"-238.3\" font-family=\"Helvetica,sans-Serif\" font-size=\"14.00\">class = setosa</text>\r\n",
       "</g>\r\n",
       "<!-- 0&#45;&gt;1 -->\r\n",
       "<g id=\"edge1\" class=\"edge\"><title>0&#45;&gt;1</title>\r\n",
       "<path fill=\"none\" stroke=\"black\" d=\"M175.397,-341.907C167.605,-330.652 159.136,-318.418 151.304,-307.106\"/>\r\n",
       "<polygon fill=\"black\" stroke=\"black\" points=\"154.032,-304.897 145.462,-298.667 148.276,-308.881 154.032,-304.897\"/>\r\n",
       "<text text-anchor=\"middle\" x=\"140.99\" y=\"-319.564\" font-family=\"Helvetica,sans-Serif\" font-size=\"14.00\">True</text>\r\n",
       "</g>\r\n",
       "<!-- 2 -->\r\n",
       "<g id=\"node3\" class=\"node\"><title>2</title>\r\n",
       "<path fill=\"#ffffff\" stroke=\"black\" d=\"M357.5,-306C357.5,-306 213.5,-306 213.5,-306 207.5,-306 201.5,-300 201.5,-294 201.5,-294 201.5,-235 201.5,-235 201.5,-229 207.5,-223 213.5,-223 213.5,-223 357.5,-223 357.5,-223 363.5,-223 369.5,-229 369.5,-235 369.5,-235 369.5,-294 369.5,-294 369.5,-300 363.5,-306 357.5,-306\"/>\r\n",
       "<text text-anchor=\"middle\" x=\"285.5\" y=\"-290.8\" font-family=\"Helvetica,sans-Serif\" font-size=\"14.00\">petal width (cm) &lt;= 1.75</text>\r\n",
       "<text text-anchor=\"middle\" x=\"285.5\" y=\"-275.8\" font-family=\"Helvetica,sans-Serif\" font-size=\"14.00\">gini = 0.5</text>\r\n",
       "<text text-anchor=\"middle\" x=\"285.5\" y=\"-260.8\" font-family=\"Helvetica,sans-Serif\" font-size=\"14.00\">samples = 100</text>\r\n",
       "<text text-anchor=\"middle\" x=\"285.5\" y=\"-245.8\" font-family=\"Helvetica,sans-Serif\" font-size=\"14.00\">value = [0, 50, 50]</text>\r\n",
       "<text text-anchor=\"middle\" x=\"285.5\" y=\"-230.8\" font-family=\"Helvetica,sans-Serif\" font-size=\"14.00\">class = versicolor</text>\r\n",
       "</g>\r\n",
       "<!-- 0&#45;&gt;2 -->\r\n",
       "<g id=\"edge2\" class=\"edge\"><title>0&#45;&gt;2</title>\r\n",
       "<path fill=\"none\" stroke=\"black\" d=\"M231.949,-341.907C238.183,-333.014 244.844,-323.509 251.277,-314.331\"/>\r\n",
       "<polygon fill=\"black\" stroke=\"black\" points=\"254.228,-316.219 257.101,-306.021 248.495,-312.201 254.228,-316.219\"/>\r\n",
       "<text text-anchor=\"middle\" x=\"261.431\" y=\"-326.943\" font-family=\"Helvetica,sans-Serif\" font-size=\"14.00\">False</text>\r\n",
       "</g>\r\n",
       "<!-- 3 -->\r\n",
       "<g id=\"node4\" class=\"node\"><title>3</title>\r\n",
       "<path fill=\"#4de88e\" stroke=\"black\" d=\"M263.5,-187C263.5,-187 113.5,-187 113.5,-187 107.5,-187 101.5,-181 101.5,-175 101.5,-175 101.5,-116 101.5,-116 101.5,-110 107.5,-104 113.5,-104 113.5,-104 263.5,-104 263.5,-104 269.5,-104 275.5,-110 275.5,-116 275.5,-116 275.5,-175 275.5,-175 275.5,-181 269.5,-187 263.5,-187\"/>\r\n",
       "<text text-anchor=\"middle\" x=\"188.5\" y=\"-171.8\" font-family=\"Helvetica,sans-Serif\" font-size=\"14.00\">petal length (cm) &lt;= 4.95</text>\r\n",
       "<text text-anchor=\"middle\" x=\"188.5\" y=\"-156.8\" font-family=\"Helvetica,sans-Serif\" font-size=\"14.00\">gini = 0.168</text>\r\n",
       "<text text-anchor=\"middle\" x=\"188.5\" y=\"-141.8\" font-family=\"Helvetica,sans-Serif\" font-size=\"14.00\">samples = 54</text>\r\n",
       "<text text-anchor=\"middle\" x=\"188.5\" y=\"-126.8\" font-family=\"Helvetica,sans-Serif\" font-size=\"14.00\">value = [0, 49, 5]</text>\r\n",
       "<text text-anchor=\"middle\" x=\"188.5\" y=\"-111.8\" font-family=\"Helvetica,sans-Serif\" font-size=\"14.00\">class = versicolor</text>\r\n",
       "</g>\r\n",
       "<!-- 2&#45;&gt;3 -->\r\n",
       "<g id=\"edge3\" class=\"edge\"><title>2&#45;&gt;3</title>\r\n",
       "<path fill=\"none\" stroke=\"black\" d=\"M251.846,-222.907C244.323,-213.832 236.271,-204.121 228.518,-194.769\"/>\r\n",
       "<polygon fill=\"black\" stroke=\"black\" points=\"231.171,-192.485 222.094,-187.021 225.782,-196.953 231.171,-192.485\"/>\r\n",
       "</g>\r\n",
       "<!-- 6 -->\r\n",
       "<g id=\"node7\" class=\"node\"><title>6</title>\r\n",
       "<path fill=\"#843de6\" stroke=\"black\" d=\"M459.5,-187C459.5,-187 305.5,-187 305.5,-187 299.5,-187 293.5,-181 293.5,-175 293.5,-175 293.5,-116 293.5,-116 293.5,-110 299.5,-104 305.5,-104 305.5,-104 459.5,-104 459.5,-104 465.5,-104 471.5,-110 471.5,-116 471.5,-116 471.5,-175 471.5,-175 471.5,-181 465.5,-187 459.5,-187\"/>\r\n",
       "<text text-anchor=\"middle\" x=\"382.5\" y=\"-171.8\" font-family=\"Helvetica,sans-Serif\" font-size=\"14.00\">sepal length (cm) &lt;= 5.95</text>\r\n",
       "<text text-anchor=\"middle\" x=\"382.5\" y=\"-156.8\" font-family=\"Helvetica,sans-Serif\" font-size=\"14.00\">gini = 0.043</text>\r\n",
       "<text text-anchor=\"middle\" x=\"382.5\" y=\"-141.8\" font-family=\"Helvetica,sans-Serif\" font-size=\"14.00\">samples = 46</text>\r\n",
       "<text text-anchor=\"middle\" x=\"382.5\" y=\"-126.8\" font-family=\"Helvetica,sans-Serif\" font-size=\"14.00\">value = [0, 1, 45]</text>\r\n",
       "<text text-anchor=\"middle\" x=\"382.5\" y=\"-111.8\" font-family=\"Helvetica,sans-Serif\" font-size=\"14.00\">class = virginica</text>\r\n",
       "</g>\r\n",
       "<!-- 2&#45;&gt;6 -->\r\n",
       "<g id=\"edge6\" class=\"edge\"><title>2&#45;&gt;6</title>\r\n",
       "<path fill=\"none\" stroke=\"black\" d=\"M319.154,-222.907C326.677,-213.832 334.729,-204.121 342.482,-194.769\"/>\r\n",
       "<polygon fill=\"black\" stroke=\"black\" points=\"345.218,-196.953 348.906,-187.021 339.829,-192.485 345.218,-196.953\"/>\r\n",
       "</g>\r\n",
       "<!-- 4 -->\r\n",
       "<g id=\"node5\" class=\"node\"><title>4</title>\r\n",
       "<path fill=\"#3de684\" stroke=\"black\" d=\"M115,-68C115,-68 12,-68 12,-68 6,-68 -7.10543e-015,-62 -7.10543e-015,-56 -7.10543e-015,-56 -7.10543e-015,-12 -7.10543e-015,-12 -7.10543e-015,-6 6,-0 12,-0 12,-0 115,-0 115,-0 121,-0 127,-6 127,-12 127,-12 127,-56 127,-56 127,-62 121,-68 115,-68\"/>\r\n",
       "<text text-anchor=\"middle\" x=\"63.5\" y=\"-52.8\" font-family=\"Helvetica,sans-Serif\" font-size=\"14.00\">gini = 0.041</text>\r\n",
       "<text text-anchor=\"middle\" x=\"63.5\" y=\"-37.8\" font-family=\"Helvetica,sans-Serif\" font-size=\"14.00\">samples = 48</text>\r\n",
       "<text text-anchor=\"middle\" x=\"63.5\" y=\"-22.8\" font-family=\"Helvetica,sans-Serif\" font-size=\"14.00\">value = [0, 47, 1]</text>\r\n",
       "<text text-anchor=\"middle\" x=\"63.5\" y=\"-7.8\" font-family=\"Helvetica,sans-Serif\" font-size=\"14.00\">class = versicolor</text>\r\n",
       "</g>\r\n",
       "<!-- 3&#45;&gt;4 -->\r\n",
       "<g id=\"edge4\" class=\"edge\"><title>3&#45;&gt;4</title>\r\n",
       "<path fill=\"none\" stroke=\"black\" d=\"M141.955,-103.726C131.23,-94.3318 119.834,-84.349 109.149,-74.9883\"/>\r\n",
       "<polygon fill=\"black\" stroke=\"black\" points=\"111.342,-72.2562 101.513,-68.2996 106.729,-77.5217 111.342,-72.2562\"/>\r\n",
       "</g>\r\n",
       "<!-- 5 -->\r\n",
       "<g id=\"node6\" class=\"node\"><title>5</title>\r\n",
       "<path fill=\"#c09cf2\" stroke=\"black\" d=\"M249.5,-68C249.5,-68 157.5,-68 157.5,-68 151.5,-68 145.5,-62 145.5,-56 145.5,-56 145.5,-12 145.5,-12 145.5,-6 151.5,-0 157.5,-0 157.5,-0 249.5,-0 249.5,-0 255.5,-0 261.5,-6 261.5,-12 261.5,-12 261.5,-56 261.5,-56 261.5,-62 255.5,-68 249.5,-68\"/>\r\n",
       "<text text-anchor=\"middle\" x=\"203.5\" y=\"-52.8\" font-family=\"Helvetica,sans-Serif\" font-size=\"14.00\">gini = 0.444</text>\r\n",
       "<text text-anchor=\"middle\" x=\"203.5\" y=\"-37.8\" font-family=\"Helvetica,sans-Serif\" font-size=\"14.00\">samples = 6</text>\r\n",
       "<text text-anchor=\"middle\" x=\"203.5\" y=\"-22.8\" font-family=\"Helvetica,sans-Serif\" font-size=\"14.00\">value = [0, 2, 4]</text>\r\n",
       "<text text-anchor=\"middle\" x=\"203.5\" y=\"-7.8\" font-family=\"Helvetica,sans-Serif\" font-size=\"14.00\">class = virginica</text>\r\n",
       "</g>\r\n",
       "<!-- 3&#45;&gt;5 -->\r\n",
       "<g id=\"edge5\" class=\"edge\"><title>3&#45;&gt;5</title>\r\n",
       "<path fill=\"none\" stroke=\"black\" d=\"M194.085,-103.726C195.222,-95.4263 196.422,-86.6671 197.571,-78.2834\"/>\r\n",
       "<polygon fill=\"black\" stroke=\"black\" points=\"201.049,-78.6821 198.938,-68.2996 194.114,-77.732 201.049,-78.6821\"/>\r\n",
       "</g>\r\n",
       "<!-- 7 -->\r\n",
       "<g id=\"node8\" class=\"node\"><title>7</title>\r\n",
       "<path fill=\"#965ae9\" stroke=\"black\" d=\"M413.5,-68C413.5,-68 321.5,-68 321.5,-68 315.5,-68 309.5,-62 309.5,-56 309.5,-56 309.5,-12 309.5,-12 309.5,-6 315.5,-0 321.5,-0 321.5,-0 413.5,-0 413.5,-0 419.5,-0 425.5,-6 425.5,-12 425.5,-12 425.5,-56 425.5,-56 425.5,-62 419.5,-68 413.5,-68\"/>\r\n",
       "<text text-anchor=\"middle\" x=\"367.5\" y=\"-52.8\" font-family=\"Helvetica,sans-Serif\" font-size=\"14.00\">gini = 0.245</text>\r\n",
       "<text text-anchor=\"middle\" x=\"367.5\" y=\"-37.8\" font-family=\"Helvetica,sans-Serif\" font-size=\"14.00\">samples = 7</text>\r\n",
       "<text text-anchor=\"middle\" x=\"367.5\" y=\"-22.8\" font-family=\"Helvetica,sans-Serif\" font-size=\"14.00\">value = [0, 1, 6]</text>\r\n",
       "<text text-anchor=\"middle\" x=\"367.5\" y=\"-7.8\" font-family=\"Helvetica,sans-Serif\" font-size=\"14.00\">class = virginica</text>\r\n",
       "</g>\r\n",
       "<!-- 6&#45;&gt;7 -->\r\n",
       "<g id=\"edge7\" class=\"edge\"><title>6&#45;&gt;7</title>\r\n",
       "<path fill=\"none\" stroke=\"black\" d=\"M376.915,-103.726C375.778,-95.4263 374.578,-86.6671 373.429,-78.2834\"/>\r\n",
       "<polygon fill=\"black\" stroke=\"black\" points=\"376.886,-77.732 372.062,-68.2996 369.951,-78.6821 376.886,-77.732\"/>\r\n",
       "</g>\r\n",
       "<!-- 8 -->\r\n",
       "<g id=\"node9\" class=\"node\"><title>8</title>\r\n",
       "<path fill=\"#8139e5\" stroke=\"black\" d=\"M553,-68C553,-68 456,-68 456,-68 450,-68 444,-62 444,-56 444,-56 444,-12 444,-12 444,-6 450,-0 456,-0 456,-0 553,-0 553,-0 559,-0 565,-6 565,-12 565,-12 565,-56 565,-56 565,-62 559,-68 553,-68\"/>\r\n",
       "<text text-anchor=\"middle\" x=\"504.5\" y=\"-52.8\" font-family=\"Helvetica,sans-Serif\" font-size=\"14.00\">gini = 0.0</text>\r\n",
       "<text text-anchor=\"middle\" x=\"504.5\" y=\"-37.8\" font-family=\"Helvetica,sans-Serif\" font-size=\"14.00\">samples = 39</text>\r\n",
       "<text text-anchor=\"middle\" x=\"504.5\" y=\"-22.8\" font-family=\"Helvetica,sans-Serif\" font-size=\"14.00\">value = [0, 0, 39]</text>\r\n",
       "<text text-anchor=\"middle\" x=\"504.5\" y=\"-7.8\" font-family=\"Helvetica,sans-Serif\" font-size=\"14.00\">class = virginica</text>\r\n",
       "</g>\r\n",
       "<!-- 6&#45;&gt;8 -->\r\n",
       "<g id=\"edge8\" class=\"edge\"><title>6&#45;&gt;8</title>\r\n",
       "<path fill=\"none\" stroke=\"black\" d=\"M427.928,-103.726C438.395,-94.3318 449.518,-84.349 459.947,-74.9883\"/>\r\n",
       "<polygon fill=\"black\" stroke=\"black\" points=\"462.295,-77.5839 467.399,-68.2996 457.619,-72.3744 462.295,-77.5839\"/>\r\n",
       "</g>\r\n",
       "</g>\r\n",
       "</svg>\r\n"
      ],
      "text/plain": [
       "<graphviz.files.Source at 0x158b3de2a48>"
      ]
     },
     "execution_count": 20,
     "metadata": {},
     "output_type": "execute_result"
    }
   ],
   "source": [
    "# Visualization of trained Decision Tree\n",
    "import graphviz\n",
    "with open(\"best_iris_tree.dot\") as f:\n",
    "    dot_graph = f.read()\n",
    "graphviz.Source(dot_graph)"
   ]
  },
  {
   "cell_type": "markdown",
   "metadata": {},
   "source": [
    "# Conclusion"
   ]
  },
  {
   "cell_type": "code",
   "execution_count": 21,
   "metadata": {},
   "outputs": [
    {
     "data": {
      "text/html": [
       "<div>\n",
       "<style scoped>\n",
       "    .dataframe tbody tr th:only-of-type {\n",
       "        vertical-align: middle;\n",
       "    }\n",
       "\n",
       "    .dataframe tbody tr th {\n",
       "        vertical-align: top;\n",
       "    }\n",
       "\n",
       "    .dataframe thead th {\n",
       "        text-align: right;\n",
       "    }\n",
       "</style>\n",
       "<table border=\"1\" class=\"dataframe\">\n",
       "  <thead>\n",
       "    <tr style=\"text-align: right;\">\n",
       "      <th></th>\n",
       "      <th>Decision Tree Model</th>\n",
       "      <th>Training Accuracy Score</th>\n",
       "      <th>Cross-Validation Accuracy Score with 10 folds</th>\n",
       "      <th>Conclusion</th>\n",
       "      <th>Result</th>\n",
       "    </tr>\n",
       "  </thead>\n",
       "  <tbody>\n",
       "    <tr>\n",
       "      <th>0</th>\n",
       "      <td>Non-Regularized</td>\n",
       "      <td>1.0000</td>\n",
       "      <td>0.9400</td>\n",
       "      <td>More difference between Training and Cross-Val...</td>\n",
       "      <td>Overfit</td>\n",
       "    </tr>\n",
       "    <tr>\n",
       "      <th>1</th>\n",
       "      <td>Regularized</td>\n",
       "      <td>0.9733</td>\n",
       "      <td>0.9667</td>\n",
       "      <td>Less difference between Training and Cross-Val...</td>\n",
       "      <td>Good Fit</td>\n",
       "    </tr>\n",
       "  </tbody>\n",
       "</table>\n",
       "</div>"
      ],
      "text/plain": [
       "  Decision Tree Model  Training Accuracy Score  \\\n",
       "0     Non-Regularized                   1.0000   \n",
       "1         Regularized                   0.9733   \n",
       "\n",
       "   Cross-Validation Accuracy Score with 10 folds  \\\n",
       "0                                         0.9400   \n",
       "1                                         0.9667   \n",
       "\n",
       "                                          Conclusion    Result  \n",
       "0  More difference between Training and Cross-Val...   Overfit  \n",
       "1  Less difference between Training and Cross-Val...  Good Fit  "
      ]
     },
     "execution_count": 21,
     "metadata": {},
     "output_type": "execute_result"
    }
   ],
   "source": [
    "# Tabular form of all above obtained results\n",
    "table=pd.DataFrame({'Decision Tree Model': ['Non-Regularized', 'Regularized'],\n",
    "             'Training Accuracy Score': [1.0, 0.9733],\n",
    "             'Cross-Validation Accuracy Score with 10 folds': [0.94, 0.9667],\n",
    "             'Conclusion': ['More difference between Training and Cross-Validation Accuracy Score', \n",
    "                            'Less difference between Training and Cross-Validation Accuracy Score'],\n",
    "             'Result': ['Overfit', 'Good Fit']})\n",
    "table"
   ]
  },
  {
   "cell_type": "markdown",
   "metadata": {},
   "source": [
    "### Conclusion: \n",
    "\n",
    "__Regularized Decision Tree model is better__ than the non-regularized Decision Tree model."
   ]
  },
  {
   "cell_type": "code",
   "execution_count": null,
   "metadata": {},
   "outputs": [],
   "source": []
  }
 ],
 "metadata": {
  "kernelspec": {
   "display_name": "Python 3",
   "language": "python",
   "name": "python3"
  },
  "language_info": {
   "codemirror_mode": {
    "name": "ipython",
    "version": 3
   },
   "file_extension": ".py",
   "mimetype": "text/x-python",
   "name": "python",
   "nbconvert_exporter": "python",
   "pygments_lexer": "ipython3",
   "version": "3.7.6"
  }
 },
 "nbformat": 4,
 "nbformat_minor": 4
}
